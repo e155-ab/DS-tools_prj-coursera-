# Markdown cells:
# Data Science Tools and Ecosystem
## In this notebook, Data Science Tools and Ecosystem are summarized.
## __Objectives:__
- List popular languages for Data Science
- Some of the commonly used libraries used by Data Scientists include
- Table of Data Science Tools
- Few examples of evaluating arithmetic expressions in Python
### Some of the popular languages that Data Scientists use are:
1. Python
2. R
3. SQL
4. Java
5. Julia
6. Scala
7. C/C++
8. JavaScript
9.  Go
10. MATLAB
11. SAS
### Some of the commonly used libraries used by Data Scientists include:
1. Pandas
2. Numpy
3. SciPy
4. Matplotlib
### Table of Data Science Tools:
|Data Science Tools|
|------------------|
|Python|
|R|
|TesorFlow|
|Tableau|
|Hadoop|
|Apache Spark|
### Below are a few examples of evaluating arithmetic expressions in Python:
#code cells:
#   This a simple arithmetic expression to mutiply then add integers
(3*4)+5
# his will convert 200 minutes to hours by diving by 60
a=200
total_hours=200/60
total_hours
